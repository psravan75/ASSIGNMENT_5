{
  "cells": [
    {
      "cell_type": "code",
      "source": [],
      "metadata": {
        "id": "DPGeYF38G6wy"
      },
      "execution_count": null,
      "outputs": []
    },
    {
      "cell_type": "markdown",
      "source": [
        "1. *Scenarios where multithreading is preferable to multiprocessing*:  \n",
        "   - *Multithreading* is ideal when tasks are I/O-bound, like reading from a file, network operations, or handling web requests. Threads can switch during I/O waiting time, making programs more efficient.\n",
        "   - *Multiprocessing* is preferable when tasks are CPU-bound, such as mathematical calculations or processing large datasets. This is because it can utilize multiple CPU cores and prevent the Global Interpreter Lock (GIL) in Python from being a bottleneck.\n"
      ],
      "metadata": {
        "id": "Wx1upN8nG7Dc"
      }
    },
    {
      "cell_type": "code",
      "source": [],
      "metadata": {
        "id": "pBhmT6FOHFLM"
      },
      "execution_count": null,
      "outputs": []
    },
    {
      "cell_type": "markdown",
      "source": [
        "2. *What is a process pool and how it helps in managing multiple processes efficiently*:  \n",
        "   A *process pool* is a collection of worker processes that can handle multiple tasks concurrently. It allows the program to reuse processes, which reduces the overhead of creating and destroying them. Process pools efficiently manage tasks by distributing them across available processes, maximizing CPU utilization while reducing context switching overhead.\n"
      ],
      "metadata": {
        "id": "Lef6yntBHF4c"
      }
    },
    {
      "cell_type": "code",
      "source": [],
      "metadata": {
        "id": "qL8P-yGXHJ56"
      },
      "execution_count": null,
      "outputs": []
    },
    {
      "cell_type": "markdown",
      "source": [
        "3. *What is multiprocessing and why it is used in Python programs*:  \n",
        "   *Multiprocessing* allows Python programs to execute multiple processes in parallel, utilizing multiple CPU cores. It is used to improve performance for CPU-bound tasks by avoiding Python's GIL, which limits the execution of multiple threads in Python to one core.\n",
        "\n"
      ],
      "metadata": {
        "id": "WdBvzSGiHNBL"
      }
    },
    {
      "cell_type": "code",
      "source": [
        "4\n",
        "import threading\n",
        "\n",
        "my_list = []\n",
        "lock = threading.Lock()\n",
        "\n",
        "def add_to_list():\n",
        "    for i in range(5):\n",
        "        with lock:  # Automatically acquire and release the lock\n",
        "            my_list.append(i)\n",
        "            print(f\"Added: {i}\")\n",
        "\n",
        "def remove_from_list():\n",
        "    for i in range(5):\n",
        "        with lock:  # Automatically acquire and release the lock\n",
        "            if my_list:\n",
        "                removed_item = my_list.pop(0)\n",
        "                print(f\"Removed: {removed_item}\")\n",
        "            else:\n",
        "                print(\"List is empty, nothing to remove\")\n",
        "\n",
        "# Create threads\n",
        "thread1 = threading.Thread(target=add_to_list)\n",
        "thread2 = threading.Thread(target=remove_from_list)\n",
        "\n",
        "# Start threads\n",
        "thread1.start()\n",
        "thread2.start()\n",
        "\n",
        "# Wait for threads to complete\n",
        "thread1.join()\n",
        "thread2.join()\n",
        "\n",
        "# Print the final state of the list\n",
        "print(\"Final list:\", my_list)\n"
      ],
      "metadata": {
        "id": "rApZSDqHHWkV",
        "outputId": "11e95796-cc17-40a2-e101-ebbb964fd001",
        "colab": {
          "base_uri": "https://localhost:8080/"
        }
      },
      "execution_count": 2,
      "outputs": [
        {
          "output_type": "stream",
          "name": "stdout",
          "text": [
            "Added: 0\n",
            "Added: 1\n",
            "Added: 2\n",
            "Added: 3\n",
            "Added: 4\n",
            "Removed: 0\n",
            "Removed: 1\n",
            "Removed: 2\n",
            "Removed: 3\n",
            "Removed: 4\n",
            "Final list: []\n"
          ]
        }
      ]
    },
    {
      "cell_type": "markdown",
      "source": [
        "5. *Methods and tools in Python for safely sharing data between threads and processes*:  \n",
        "   - *Threading*: threading.Lock, threading.RLock, threading.Condition, threading.Semaphore are commonly used to prevent race conditions and synchronize thread operations.\n",
        "   - *Multiprocessing*: multiprocessing.Queue, multiprocessing.Pipe, and multiprocessing.Value can be used to share data safely between processes.\n",
        "\n"
      ],
      "metadata": {
        "id": "KbS9oNsrHa_p"
      }
    },
    {
      "cell_type": "code",
      "source": [
        ""
      ],
      "metadata": {
        "id": "rLz8Iiv0HyD7"
      },
      "execution_count": null,
      "outputs": []
    },
    {
      "cell_type": "markdown",
      "source": [
        "6. *Importance of handling exceptions in concurrent programs and available techniques*:  \n",
        "   Handling exceptions in concurrent programs is crucial to ensure the program doesn’t crash unexpectedly or leave resources like file handles or network connections open. Techniques for handling exceptions include:\n",
        "   - Wrapping thread or process logic in try-except blocks.\n",
        "   - Using higher-level tools like concurrent.futures which propagate exceptions back to the main thread.\n"
      ],
      "metadata": {
        "id": "y0zM_V-vH1H-"
      }
    },
    {
      "cell_type": "code",
      "source": [
        "7\n",
        "from concurrent.futures import ThreadPoolExecutor\n",
        "import math\n",
        "\n",
        "def factorial(n):\n",
        "    return math.factorial(n)\n",
        "\n",
        "# Create a ThreadPoolExecutor with a specified number of workers\n",
        "with ThreadPoolExecutor(max_workers=5) as executor:\n",
        "    # Use executor.map to calculate the factorials of numbers from 1 to 10\n",
        "    results = executor.map(factorial, range(1, 11))\n",
        "\n",
        "# Print the results\n",
        "for result in results:\n",
        "    print(result)\n"
      ],
      "metadata": {
        "id": "zDfGduH-H1zG",
        "outputId": "a6649f2b-7edd-47ac-ebb9-e766e6cc4126",
        "colab": {
          "base_uri": "https://localhost:8080/"
        }
      },
      "execution_count": 3,
      "outputs": [
        {
          "output_type": "stream",
          "name": "stdout",
          "text": [
            "1\n",
            "2\n",
            "6\n",
            "24\n",
            "120\n",
            "720\n",
            "5040\n",
            "40320\n",
            "362880\n",
            "3628800\n"
          ]
        }
      ]
    },
    {
      "cell_type": "code",
      "source": [
        "8\n",
        "from multiprocessing import Pool\n",
        "import time\n",
        "\n",
        "def square(n):\n",
        "    return n * n\n",
        "\n",
        "if __name__ == \"__main__\":\n",
        "    for pool_size in [2, 4, 8]:\n",
        "        start_time = time.perf_counter()  # More precise time measurement\n",
        "        with Pool(pool_size) as p:\n",
        "            results = p.map(square, range(1, 11))\n",
        "        end_time = time.perf_counter()  # End time using perf_counter\n",
        "        print(f\"Results with pool size {pool_size}: {results}\")\n",
        "        print(f\"Time taken with pool size {pool_size}: {end_time - start_time:.6f} seconds\")\n"
      ],
      "metadata": {
        "id": "7cgcGwTWIIXL",
        "outputId": "9ff2690f-af87-422c-8ceb-162cbbdc3d90",
        "colab": {
          "base_uri": "https://localhost:8080/"
        }
      },
      "execution_count": 4,
      "outputs": [
        {
          "output_type": "stream",
          "name": "stdout",
          "text": [
            "Results with pool size 2: [1, 4, 9, 16, 25, 36, 49, 64, 81, 100]\n",
            "Time taken with pool size 2: 0.056603 seconds\n",
            "Results with pool size 4: [1, 4, 9, 16, 25, 36, 49, 64, 81, 100]\n",
            "Time taken with pool size 4: 0.065727 seconds\n",
            "Results with pool size 8: [1, 4, 9, 16, 25, 36, 49, 64, 81, 100]\n",
            "Time taken with pool size 8: 0.094289 seconds\n"
          ]
        }
      ]
    },
    {
      "cell_type": "code",
      "source": [],
      "metadata": {
        "id": "IQMZIR_5IXCS"
      },
      "execution_count": null,
      "outputs": []
    }
  ],
  "metadata": {
    "colab": {
      "name": "Welcome To Colab",
      "toc_visible": true,
      "provenance": []
    },
    "kernelspec": {
      "display_name": "Python 3",
      "name": "python3"
    }
  },
  "nbformat": 4,
  "nbformat_minor": 0
}